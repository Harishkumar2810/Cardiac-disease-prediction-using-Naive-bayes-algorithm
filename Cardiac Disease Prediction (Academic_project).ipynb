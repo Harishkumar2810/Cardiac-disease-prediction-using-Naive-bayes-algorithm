{
 "cells": [
  {
   "cell_type": "code",
   "execution_count": 1,
   "id": "2e1b7f6a-ac2a-4f83-8928-4f10ade86e0e",
   "metadata": {},
   "outputs": [],
   "source": [
    "import pandas as pd\n",
    "import numpy as np\n",
    "from sklearn.tree import DecisionTreeClassifier\n",
    "from sklearn.metrics import accuracy_score, confusion_matrix\n",
    "from sklearn.model_selection import train_test_split\n",
    "from itertools import combinations"
   ]
  },
  {
   "cell_type": "code",
   "execution_count": 2,
   "id": "6dbee5be-236d-4d7f-ae6a-60d14ea3d2ab",
   "metadata": {},
   "outputs": [
    {
     "name": "stdout",
     "output_type": "stream",
     "text": [
      "Dataset: \n",
      "    age  sex  cp  trestbps  chol  fbs  restecg  thalach  exang  oldpeak  \\\n",
      "0    63    1   3       145   233    1        0      150      0      2.3   \n",
      "1    37    1   2       130   250    0        1      187      0      3.5   \n",
      "2    41    0   1       130   204    0        0      172      0      1.4   \n",
      "3    56    1   1       120   236    0        1      178      0      0.8   \n",
      "4    57    0   0       120   354    0        1      163      1      0.6   \n",
      "..  ...  ...  ..       ...   ...  ...      ...      ...    ...      ...   \n",
      "95   58    0   2       120   340    0        1      172      0      0.0   \n",
      "96   66    0   3       150   226    0        1      114      0      2.6   \n",
      "97   43    1   0       150   247    0        1      171      0      1.5   \n",
      "98   69    0   3       140   239    0        1      151      0      1.8   \n",
      "99   59    1   0       135   234    0        1      161      0      0.5   \n",
      "\n",
      "    slope  ca  thal  target  \n",
      "0       0   0     1       1  \n",
      "1       0   0     2       1  \n",
      "2       2   0     2       1  \n",
      "3       2   0     2       1  \n",
      "4       2   0     2       1  \n",
      "..    ...  ..   ...     ...  \n",
      "95      2   0     2       1  \n",
      "96      0   0     2       1  \n",
      "97      2   0     2       1  \n",
      "98      2   2     2       1  \n",
      "99      1   0     3       1  \n",
      "\n",
      "[100 rows x 14 columns]\n"
     ]
    }
   ],
   "source": [
    "heart_disease = pd.read_csv(r\"C:\\Users\\kpmha\\OneDrive\\Documents\\FINAL YEAR PROJECTS\\Final yr Project\\Final Yr Projects code\\Me\\warm_heart_pyhton\\heart_disease1.csv\")\n",
    "print(\"Dataset: \")\n",
    "print(heart_disease)"
   ]
  },
  {
   "cell_type": "code",
   "execution_count": 3,
   "id": "454aaf9b-b5af-419c-a88b-71055ebbad00",
   "metadata": {},
   "outputs": [],
   "source": [
    "heart_disease = heart_disease.fillna(0)"
   ]
  },
  {
   "cell_type": "code",
   "execution_count": 4,
   "id": "42facf05-48e8-4280-bc39-037f1d78b98f",
   "metadata": {},
   "outputs": [
    {
     "data": {
      "text/html": [
       "<div>\n",
       "<style scoped>\n",
       "    .dataframe tbody tr th:only-of-type {\n",
       "        vertical-align: middle;\n",
       "    }\n",
       "\n",
       "    .dataframe tbody tr th {\n",
       "        vertical-align: top;\n",
       "    }\n",
       "\n",
       "    .dataframe thead th {\n",
       "        text-align: right;\n",
       "    }\n",
       "</style>\n",
       "<table border=\"1\" class=\"dataframe\">\n",
       "  <thead>\n",
       "    <tr style=\"text-align: right;\">\n",
       "      <th></th>\n",
       "      <th>age</th>\n",
       "      <th>sex</th>\n",
       "      <th>cp</th>\n",
       "      <th>trestbps</th>\n",
       "      <th>chol</th>\n",
       "      <th>fbs</th>\n",
       "      <th>restecg</th>\n",
       "      <th>thalach</th>\n",
       "      <th>exang</th>\n",
       "      <th>oldpeak</th>\n",
       "      <th>slope</th>\n",
       "      <th>ca</th>\n",
       "      <th>thal</th>\n",
       "      <th>target</th>\n",
       "    </tr>\n",
       "  </thead>\n",
       "  <tbody>\n",
       "    <tr>\n",
       "      <th>98</th>\n",
       "      <td>69</td>\n",
       "      <td>0</td>\n",
       "      <td>3</td>\n",
       "      <td>140</td>\n",
       "      <td>239</td>\n",
       "      <td>0</td>\n",
       "      <td>1</td>\n",
       "      <td>151</td>\n",
       "      <td>0</td>\n",
       "      <td>1.8</td>\n",
       "      <td>2</td>\n",
       "      <td>2</td>\n",
       "      <td>2</td>\n",
       "      <td>1</td>\n",
       "    </tr>\n",
       "    <tr>\n",
       "      <th>99</th>\n",
       "      <td>59</td>\n",
       "      <td>1</td>\n",
       "      <td>0</td>\n",
       "      <td>135</td>\n",
       "      <td>234</td>\n",
       "      <td>0</td>\n",
       "      <td>1</td>\n",
       "      <td>161</td>\n",
       "      <td>0</td>\n",
       "      <td>0.5</td>\n",
       "      <td>1</td>\n",
       "      <td>0</td>\n",
       "      <td>3</td>\n",
       "      <td>1</td>\n",
       "    </tr>\n",
       "  </tbody>\n",
       "</table>\n",
       "</div>"
      ],
      "text/plain": [
       "    age  sex  cp  trestbps  chol  fbs  restecg  thalach  exang  oldpeak  \\\n",
       "98   69    0   3       140   239    0        1      151      0      1.8   \n",
       "99   59    1   0       135   234    0        1      161      0      0.5   \n",
       "\n",
       "    slope  ca  thal  target  \n",
       "98      2   2     2       1  \n",
       "99      1   0     3       1  "
      ]
     },
     "execution_count": 4,
     "metadata": {},
     "output_type": "execute_result"
    }
   ],
   "source": [
    "heart_disease.tail(2)"
   ]
  },
  {
   "cell_type": "code",
   "execution_count": 5,
   "id": "c4930f68-3996-41f7-b2d9-ee3d546ce444",
   "metadata": {},
   "outputs": [],
   "source": [
    "def WARM(transactions, min_sup, min_conf, max_len):\n",
    "    itemsets = {}\n",
    "    transactions = [set(transaction) for transaction in transactions]\n",
    "    items = set(item for transaction in transactions for item in transaction)\n",
    "    for i in range(1, max_len+1):\n",
    "        itemsets[i] = []\n",
    "        for itemset in combinations(items, i):\n",
    "            count = 0\n",
    "            for transaction in transactions:\n",
    "                if set(itemset).issubset(transaction):\n",
    "                    count += 1\n",
    "            support = count / len(transactions)\n",
    "            if support >= min_sup:\n",
    "                itemsets[i].append((tuple(sorted(itemset)), support))\n",
    "    rules = []\n",
    "    for i in range(1, max_len):\n",
    "        for itemset, support in itemsets[i]:\n",
    "            for j in range(i+1, max_len+1):\n",
    "                for itemset2, support2 in itemsets[j]:\n",
    "                    if set(itemset).issubset(itemset2):\n",
    "                        conf = support2 / support\n",
    "                        if conf >= min_conf:\n",
    "                            rules.append((itemset, set(itemset2) - set(itemset), conf))\n",
    "    return rules"
   ]
  },
  {
   "cell_type": "code",
   "execution_count": 8,
   "id": "20c10abb-e555-4774-9995-6b4a3ce57769",
   "metadata": {},
   "outputs": [
    {
     "name": "stdout",
     "output_type": "stream",
     "text": [
      "\n",
      "WARM Rules:\n",
      "[((0.0,), {1.0}, 0.97), ((0.0,), {3.0}, 0.52), ((0.0,), {2.0}, 0.78), ((0.0,), {1.0, 3.0}, 0.51), ((0.0,), {1.0, 2.0}, 0.76), ((1.0,), {0.0}, 1.0), ((1.0,), {3.0}, 0.5257731958762887), ((1.0,), {2.0}, 0.7835051546391752), ((1.0,), {0.0, 3.0}, 0.5257731958762887), ((1.0,), {0.0, 2.0}, 0.7835051546391752), ((3.0,), {0.0}, 1.0), ((3.0,), {1.0}, 0.9807692307692307), ((3.0,), {2.0}, 0.6153846153846154), ((3.0,), {0.0, 1.0}, 0.9807692307692307), ((3.0,), {0.0, 2.0}, 0.6153846153846154), ((3.0,), {1.0, 2.0}, 0.6153846153846154), ((2.0,), {0.0}, 1.0), ((2.0,), {1.0}, 0.9743589743589743), ((2.0,), {0.0, 1.0}, 0.9743589743589743), ((140.0,), {0.0}, 1.0), ((0.0, 1.0), {3.0}, 0.5257731958762887), ((0.0, 1.0), {2.0}, 0.7835051546391752), ((0.0, 3.0), {1.0}, 0.9807692307692307), ((0.0, 3.0), {2.0}, 0.6153846153846154), ((0.0, 2.0), {1.0}, 0.9743589743589743), ((1.0, 3.0), {0.0}, 1.0), ((1.0, 3.0), {2.0}, 0.6274509803921569), ((1.0, 2.0), {0.0}, 1.0), ((2.0, 3.0), {0.0}, 1.0), ((2.0, 3.0), {1.0}, 1.0)]\n"
     ]
    }
   ],
   "source": [
    "transactions = heart_disease.values.tolist()\n",
    "rules = WARM(transactions, 0.2, 0.5, 3)\n",
    "print(\"\\nWARM Rules:\")\n",
    "print(rules)"
   ]
  },
  {
   "cell_type": "code",
   "execution_count": 7,
   "id": "5b256c7f-ac4e-4354-a22f-c9d5cfcc39d0",
   "metadata": {},
   "outputs": [
    {
     "name": "stdout",
     "output_type": "stream",
     "text": [
      "\n",
      "X_train:\n",
      "    age  sex  cp  trestbps  chol  fbs  restecg  thalach  exang  oldpeak  \\\n",
      "55   56    1   2       130   256    1        0      142      1      0.6   \n",
      "88   68    1   2       180   274    1        0      150      1      1.6   \n",
      "26   59    1   2       150   212    1        1      157      0      1.6   \n",
      "42   45    1   0       104   208    0        0      148      1      3.0   \n",
      "69   50    1   0       150   243    0        0      128      0      2.6   \n",
      "..  ...  ...  ..       ...   ...  ...      ...      ...    ...      ...   \n",
      "60   40    1   0       110   167    0        0      114      1      2.0   \n",
      "71   60    1   0       130   253    0        1      144      1      1.4   \n",
      "14   49    1   2       120   188    0        1      139      0      2.0   \n",
      "92   64    1   3       110   211    0        0      144      1      1.8   \n",
      "51   67    1   0       120   229    0        0      129      1      2.6   \n",
      "\n",
      "    slope  ca  thal  \n",
      "55      1   1     1  \n",
      "88      1   0     3  \n",
      "26      2   0     2  \n",
      "42      1   0     2  \n",
      "69      1   0     3  \n",
      "..    ...  ..   ...  \n",
      "60      1   0     3  \n",
      "71      2   1     3  \n",
      "14      1   3     3  \n",
      "92      1   0     2  \n",
      "51      1   2     3  \n",
      "\n",
      "[80 rows x 13 columns]\n",
      "length: 80\n",
      "\n",
      "y_train:\n",
      "55    0\n",
      "88    0\n",
      "26    1\n",
      "42    1\n",
      "69    0\n",
      "     ..\n",
      "60    0\n",
      "71    0\n",
      "14    0\n",
      "92    1\n",
      "51    0\n",
      "Name: target, Length: 80, dtype: int64\n",
      "(80,)\n",
      "\n",
      "X_test:\n",
      "    age  sex  cp  trestbps  chol  fbs  restecg  thalach  exang  oldpeak  \\\n",
      "83   62    1   0       120   267    0        1       99      1      1.8   \n",
      "53   63    1   0       130   254    0        0      147      0      1.4   \n",
      "70   44    1   0       112   290    0        0      153      0      0.0   \n",
      "45   52    1   1       120   325    0        1      172      0      0.2   \n",
      "44   39    1   2       140   321    0        0      182      0      0.0   \n",
      "39   65    0   2       160   360    0        0      151      0      0.8   \n",
      "22   42    1   0       140   226    0        1      178      0      0.0   \n",
      "80   59    1   0       170   326    0        0      140      1      3.4   \n",
      "10   62    0   0       160   164    0        0      145      0      6.2   \n",
      "0    63    1   3       145   233    1        0      150      0      2.3   \n",
      "18   39    1   0       118   219    0        1      140      0      1.2   \n",
      "30   41    0   1       105   198    0        1      168      0      0.0   \n",
      "73   50    1   2       140   233    0        1      163      0      0.6   \n",
      "33   54    1   2       125   273    0        0      152      0      0.5   \n",
      "90   48    0   2       130   275    0        1      139      0      0.2   \n",
      "4    57    0   0       120   354    0        1      163      1      0.6   \n",
      "76   58    1   0       128   216    0        0      131      1      2.2   \n",
      "77   54    1   0       120   188    0        1      113      0      1.4   \n",
      "12   59    1   0       110   239    0        0      142      1      1.2   \n",
      "31   65    1   0       120   177    0        1      140      0      0.4   \n",
      "\n",
      "    slope  ca  thal  \n",
      "83      1   2     3  \n",
      "53      1   1     3  \n",
      "70      2   1     2  \n",
      "45      2   0     2  \n",
      "44      2   0     2  \n",
      "39      2   0     2  \n",
      "22      2   0     2  \n",
      "80      0   0     3  \n",
      "10      0   3     3  \n",
      "0       0   0     1  \n",
      "18      1   0     3  \n",
      "30      2   1     2  \n",
      "73      1   1     3  \n",
      "33      0   1     2  \n",
      "90      2   0     2  \n",
      "4       2   0     2  \n",
      "76      1   3     3  \n",
      "77      1   1     3  \n",
      "12      1   1     3  \n",
      "31      2   0     3  \n",
      "(20, 13)\n",
      "\n",
      "y_test:\n",
      "83    0\n",
      "53    0\n",
      "70    0\n",
      "45    1\n",
      "44    1\n",
      "39    1\n",
      "22    1\n",
      "80    0\n",
      "10    0\n",
      "0     1\n",
      "18    0\n",
      "30    1\n",
      "73    0\n",
      "33    1\n",
      "90    1\n",
      "4     1\n",
      "76    0\n",
      "77    0\n",
      "12    0\n",
      "31    1\n",
      "Name: target, dtype: int64\n",
      "(20,)\n"
     ]
    }
   ],
   "source": [
    "X = heart_disease.iloc[:, :-1]\n",
    "y = heart_disease.iloc[:, -1]\n",
    "X_train, X_test, y_train, y_test = train_test_split(X, y, test_size=0.2, random_state=42)\n",
    "\n",
    "print(\"\\nX_train:\")\n",
    "print(X_train)\n",
    "print('length:',len(X_train))\n",
    "\n",
    "print(\"\\ny_train:\")\n",
    "print(y_train)\n",
    "print(y_train.shape)\n",
    "\n",
    "print(\"\\nX_test:\")\n",
    "print(X_test)\n",
    "print(X_test.shape)\n",
    "\n",
    "print(\"\\ny_test:\")\n",
    "print(y_test)\n",
    "print(y_test.shape)"
   ]
  },
  {
   "cell_type": "code",
   "execution_count": 9,
   "id": "112e99bd-0039-4160-8f4f-1480f589dae1",
   "metadata": {},
   "outputs": [
    {
     "data": {
      "text/html": [
       "<style>#sk-container-id-1 {color: black;background-color: white;}#sk-container-id-1 pre{padding: 0;}#sk-container-id-1 div.sk-toggleable {background-color: white;}#sk-container-id-1 label.sk-toggleable__label {cursor: pointer;display: block;width: 100%;margin-bottom: 0;padding: 0.3em;box-sizing: border-box;text-align: center;}#sk-container-id-1 label.sk-toggleable__label-arrow:before {content: \"▸\";float: left;margin-right: 0.25em;color: #696969;}#sk-container-id-1 label.sk-toggleable__label-arrow:hover:before {color: black;}#sk-container-id-1 div.sk-estimator:hover label.sk-toggleable__label-arrow:before {color: black;}#sk-container-id-1 div.sk-toggleable__content {max-height: 0;max-width: 0;overflow: hidden;text-align: left;background-color: #f0f8ff;}#sk-container-id-1 div.sk-toggleable__content pre {margin: 0.2em;color: black;border-radius: 0.25em;background-color: #f0f8ff;}#sk-container-id-1 input.sk-toggleable__control:checked~div.sk-toggleable__content {max-height: 200px;max-width: 100%;overflow: auto;}#sk-container-id-1 input.sk-toggleable__control:checked~label.sk-toggleable__label-arrow:before {content: \"▾\";}#sk-container-id-1 div.sk-estimator input.sk-toggleable__control:checked~label.sk-toggleable__label {background-color: #d4ebff;}#sk-container-id-1 div.sk-label input.sk-toggleable__control:checked~label.sk-toggleable__label {background-color: #d4ebff;}#sk-container-id-1 input.sk-hidden--visually {border: 0;clip: rect(1px 1px 1px 1px);clip: rect(1px, 1px, 1px, 1px);height: 1px;margin: -1px;overflow: hidden;padding: 0;position: absolute;width: 1px;}#sk-container-id-1 div.sk-estimator {font-family: monospace;background-color: #f0f8ff;border: 1px dotted black;border-radius: 0.25em;box-sizing: border-box;margin-bottom: 0.5em;}#sk-container-id-1 div.sk-estimator:hover {background-color: #d4ebff;}#sk-container-id-1 div.sk-parallel-item::after {content: \"\";width: 100%;border-bottom: 1px solid gray;flex-grow: 1;}#sk-container-id-1 div.sk-label:hover label.sk-toggleable__label {background-color: #d4ebff;}#sk-container-id-1 div.sk-serial::before {content: \"\";position: absolute;border-left: 1px solid gray;box-sizing: border-box;top: 0;bottom: 0;left: 50%;z-index: 0;}#sk-container-id-1 div.sk-serial {display: flex;flex-direction: column;align-items: center;background-color: white;padding-right: 0.2em;padding-left: 0.2em;position: relative;}#sk-container-id-1 div.sk-item {position: relative;z-index: 1;}#sk-container-id-1 div.sk-parallel {display: flex;align-items: stretch;justify-content: center;background-color: white;position: relative;}#sk-container-id-1 div.sk-item::before, #sk-container-id-1 div.sk-parallel-item::before {content: \"\";position: absolute;border-left: 1px solid gray;box-sizing: border-box;top: 0;bottom: 0;left: 50%;z-index: -1;}#sk-container-id-1 div.sk-parallel-item {display: flex;flex-direction: column;z-index: 1;position: relative;background-color: white;}#sk-container-id-1 div.sk-parallel-item:first-child::after {align-self: flex-end;width: 50%;}#sk-container-id-1 div.sk-parallel-item:last-child::after {align-self: flex-start;width: 50%;}#sk-container-id-1 div.sk-parallel-item:only-child::after {width: 0;}#sk-container-id-1 div.sk-dashed-wrapped {border: 1px dashed gray;margin: 0 0.4em 0.5em 0.4em;box-sizing: border-box;padding-bottom: 0.4em;background-color: white;}#sk-container-id-1 div.sk-label label {font-family: monospace;font-weight: bold;display: inline-block;line-height: 1.2em;}#sk-container-id-1 div.sk-label-container {text-align: center;}#sk-container-id-1 div.sk-container {/* jupyter's `normalize.less` sets `[hidden] { display: none; }` but bootstrap.min.css set `[hidden] { display: none !important; }` so we also need the `!important` here to be able to override the default hidden behavior on the sphinx rendered scikit-learn.org. See: https://github.com/scikit-learn/scikit-learn/issues/21755 */display: inline-block !important;position: relative;}#sk-container-id-1 div.sk-text-repr-fallback {display: none;}</style><div id=\"sk-container-id-1\" class=\"sk-top-container\"><div class=\"sk-text-repr-fallback\"><pre>GaussianNB()</pre><b>In a Jupyter environment, please rerun this cell to show the HTML representation or trust the notebook. <br />On GitHub, the HTML representation is unable to render, please try loading this page with nbviewer.org.</b></div><div class=\"sk-container\" hidden><div class=\"sk-item\"><div class=\"sk-estimator sk-toggleable\"><input class=\"sk-toggleable__control sk-hidden--visually\" id=\"sk-estimator-id-1\" type=\"checkbox\" checked><label for=\"sk-estimator-id-1\" class=\"sk-toggleable__label sk-toggleable__label-arrow\">GaussianNB</label><div class=\"sk-toggleable__content\"><pre>GaussianNB()</pre></div></div></div></div></div>"
      ],
      "text/plain": [
       "GaussianNB()"
      ]
     },
     "execution_count": 9,
     "metadata": {},
     "output_type": "execute_result"
    }
   ],
   "source": [
    "from sklearn.naive_bayes import GaussianNB\n",
    "nb = GaussianNB()\n",
    "nb.fit(X_train, y_train)"
   ]
  },
  {
   "cell_type": "code",
   "execution_count": 10,
   "id": "57adfa17-a59d-4e15-b7dd-6e7fe6df74b1",
   "metadata": {},
   "outputs": [
    {
     "name": "stdout",
     "output_type": "stream",
     "text": [
      "\n",
      "Naive Bayes Predicted Results:\n",
      "[0 0 0 1 1 1 1 0 0 1 0 1 1 1 1 1 0 0 0 0]\n"
     ]
    }
   ],
   "source": [
    "y_pred = nb.predict(X_test)\n",
    "print(\"\\nNaive Bayes Predicted Results:\")\n",
    "print(y_pred)"
   ]
  },
  {
   "cell_type": "code",
   "execution_count": 11,
   "id": "1488d2fe-dd32-47f0-8c4f-844a8ae9e42b",
   "metadata": {},
   "outputs": [],
   "source": [
    "from sklearn.metrics import accuracy_score, precision_score, recall_score, f1_score, confusion_matrix\n"
   ]
  },
  {
   "cell_type": "code",
   "execution_count": 14,
   "id": "f4b705d2-e928-4970-a5a1-a9745484fc13",
   "metadata": {},
   "outputs": [
    {
     "name": "stdout",
     "output_type": "stream",
     "text": [
      "Naive Bayes Accuracy: 0.90\n",
      "Naive Bayes Precision: 0.90\n",
      "Naive Bayes Recall: 0.90\n",
      "Naive Bayes F1 Score: 0.90\n",
      "Naive Bayes Confusion Matrix:\n",
      "[[9 1]\n",
      " [1 9]]\n"
     ]
    }
   ],
   "source": [
    "\n",
    "# calculate evaluation metrics\n",
    "nb_accuracy = accuracy_score(y_test, y_pred) # tp+tn/total\n",
    "nb_precision = precision_score(y_test, y_pred)  # tp/predicted yes\n",
    "nb_recall = recall_score(y_test, y_pred) # tp/actually yes\n",
    "nb_f1 = f1_score(y_test, y_pred) #harmonic_mean of precision and recall \n",
    "conf_matrix = confusion_matrix(y_test, y_pred)\n",
    "\n",
    "# print evaluation metrics\n",
    "print(f'Naive Bayes Accuracy: {nb_accuracy:.2f}')\n",
    "print(f'Naive Bayes Precision: {nb_precision:.2f}')\n",
    "print(f'Naive Bayes Recall: {nb_recall:.2f}')\n",
    "print(f'Naive Bayes F1 Score: {nb_f1:.2f}')\n",
    "print('Naive Bayes Confusion Matrix:')\n",
    "print(conf_matrix)"
   ]
  },
  {
   "cell_type": "code",
   "execution_count": null,
   "id": "60a563d7-7de6-4a65-92db-ee478524ce3a",
   "metadata": {},
   "outputs": [],
   "source": []
  }
 ],
 "metadata": {
  "kernelspec": {
   "display_name": "Python 3 (ipykernel)",
   "language": "python",
   "name": "python3"
  },
  "language_info": {
   "codemirror_mode": {
    "name": "ipython",
    "version": 3
   },
   "file_extension": ".py",
   "mimetype": "text/x-python",
   "name": "python",
   "nbconvert_exporter": "python",
   "pygments_lexer": "ipython3",
   "version": "3.12.4"
  }
 },
 "nbformat": 4,
 "nbformat_minor": 5
}
